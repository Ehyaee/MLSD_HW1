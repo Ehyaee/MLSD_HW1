{
 "cells": [
  {
   "cell_type": "markdown",
   "id": "1c7a352f",
   "metadata": {},
   "source": [
    "<div style=\"border-bottom: 2px solid #5c5c5c33;\">\n",
    "    <div  style=\"font-size: 30px;margin-bottom: 20px; text-align: center;\">بسم الله الرحمن الرحیم</div>\n",
    "    <br>\n",
    "    <div style=\"font-size:20px; padding-bottom: 20px;line-height: 2; text-align: center;\"> طراحی سامانه های یادگیری ماشین <br> تمرین اول</div>\n",
    "    <div style=\"font-size:17px; direction:rtl;padding-bottom: 15px;\">نام و نام خانوادگی : زینب احیائی</div>\n",
    "    <div style=\"font-size:17px; direction:rtl; padding-bottom: 15px;\">شماره دانشجویی : 400201061</div>\n",
    "</div>"
   ]
  },
  {
   "cell_type": "markdown",
   "id": "fd421973",
   "metadata": {},
   "source": [
    "<div style=\"direction:rtl\">\n",
    "    <h2 style=\"padding-bottom: 20px;\">آماده‌سازی داده</h2>\n",
    "    <div style=\"font-size: 16px;line-height: 1.6;\">\n",
    "        در این بخش ابتدا داده‌های خام مربوط به ۱۲۲۱ محصول از طریق خزش در وب سایت <a href=\"https://divar.ir/\">دیوار</a>\n",
    "     در دسته کالاهای دیجیتال و در زیر دسته‌های موبایل و تبلت، رایانه، کنسول و بازی ویدئویی و آنلاین  \n",
    "        و صوتی و تصویری  و از بین آگهی‌های شهر‌های تهران، مشهد، شیراز و اصفهان جمع آوری شده است.\n",
    "        این کار با استفاده از <a href=\"https://scrapy.org/\">scrapy</a>\n",
    "        و در دو مرحله انجام شده است.\n",
    "        در مرحله اول آدرس‌های این محصولات به دست آمده و در مرحله بعد اطلاعات محصول از داخل این صفحات استخراج شده است.\n",
    "        برای استخراج آدرس‌ها از spider ای با ساختار زیر استفاده شده است:\n",
    "    </div>\n",
    "</div>"
   ]
  },
  {
   "cell_type": "markdown",
   "id": "da1ed2a0",
   "metadata": {},
   "source": [
    "```\n",
    "import scrapy\n",
    "from scrapy.selector import Selector\n",
    "from selenium import webdriver\n",
    "import time\n",
    "\n",
    "class URLSpider(scrapy.Spider):\n",
    "    name = \"urlspider\"\n",
    "    allowed_domains = [\"divar.ir\"]\n",
    "    start_urls = [\"https://divar.ir/s/mashhad/mobile-tablet\"]\n",
    "    \n",
    "    def __init__(self):\n",
    "        self.driver = webdriver.Chrome()\n",
    "        self.count = 0\n",
    "\n",
    "\n",
    "    def closed(self, reason):\n",
    "        self.driver.quit()\n",
    "\n",
    "\n",
    "    def parse(self, response):\n",
    "        self.driver.get(response.url)\n",
    "\n",
    "        # Scroll down and load more data\n",
    "        while True:\n",
    "            self.driver.execute_script(\"window.scrollTo(0, document.body.scrollHeight);\")\n",
    "            time.sleep(2)\n",
    "            sel = Selector(text=self.driver.execute_script(\"return document.body.innerHTML;\"))\n",
    "\n",
    "            for post in sel.css('div.post-card-item-af972'):\n",
    "                self.count = self.count + 1\n",
    "                href = post.css('a:nth-child(1)::attr(href)').extract()\n",
    "\n",
    "                yield {\n",
    "                    'href': href,\n",
    "                }\n",
    "            \n",
    "            if self.count > 200 :\n",
    "                break\n",
    "\n",
    "        self.driver.quit()\n",
    "```"
   ]
  },
  {
   "cell_type": "markdown",
   "id": "7609e74c",
   "metadata": {},
   "source": [
    "<div style=\"font-size: 16px;line-height: 1.6;direction:rtl\">\n",
    "      برای استخراج اطلاعات محصول نیز از spider ای با ساختار زیر استفاده شده است:\n",
    "</div>\n"
   ]
  },
  {
   "cell_type": "markdown",
   "id": "42680485",
   "metadata": {},
   "source": [
    "```\n",
    "import json\n",
    "import time\n",
    "from scrapy import Spider, Request, Selector\n",
    "\n",
    "class DataSpider(Spider):\n",
    "    name = 'dataspider'\n",
    "   \n",
    "    def start_requests(self):\n",
    "        with open('/Users/zeinab/Desktop/MLSD_HW1/scrapy/divar/urls/mashhad-mobile-tablet.json', 'r') as f:\n",
    "            urls = json.load(f)\n",
    "        for url in urls:\n",
    "            time.sleep(1)\n",
    "            yield Request(url=\"https://divar.ir\" + url[\"href\"][0], callback=self.parse)\n",
    "\n",
    "    def parse(self, response):\n",
    "        price = ''\n",
    "        for value in response.css('p.kt-unexpandable-row__value'):\n",
    "            if('تومان' in value.css(\"::text\").get().strip()):\n",
    "                price = value.css(\"::text\").get().strip()\n",
    "\n",
    "        img_div = response.css('div.kt-carousel__thumbnails')\n",
    "        img_count = len(img_div.css('img'))\n",
    "\n",
    "        yield {\n",
    "            'title' : response.css('div.kt-page-title__title::text').get(),\n",
    "            'desc' : response.css('p.kt-description-row__text::text').get(),\n",
    "            'brand' : response.css('a.kt-unexpandable-row__action::text').get(),\n",
    "            'image-count' : max(1, img_count),\n",
    "            'price' : price,\n",
    "            'city' : 'Mashhad',\n",
    "            'category' : 'mobile-tablet'\n",
    "        }\n",
    "```"
   ]
  },
  {
   "cell_type": "markdown",
   "id": "e08eeb28",
   "metadata": {},
   "source": [
    "<div style=\"font-size: 16px;line-height: 1.6;direction:rtl\">\n",
    "      در نهایت نتایج در یک فایل json با فرمتی مشابه زیر ذخیره شده است:\n",
    "</div>\n"
   ]
  },
  {
   "cell_type": "markdown",
   "id": "a011ffaf",
   "metadata": {},
   "source": [
    "```\n",
    "[\n",
    "    {\n",
    "    \"title\": \"سینما خانگی سامسونگ ۱۰۰۰ وات، ساخت اندونزی\",\n",
    "    \"desc\": \"سینما خانگی ۷ تیکه دارای ۴ باند یک ساب، یک DVD player ، یک باند کوچک رو میزی، حدود ۲ ساله استفاده نشده، بسیار تمیز\",\n",
    "    \"brand\": null,\n",
    "    \"image-count\": 4,\n",
    "    \"price\": \"۳٬۷۰۰٬۰۰۰ تومان\",\n",
    "    \"city\": \"Tehran\",\n",
    "    \"category\": \"video-audio-device\"\n",
    "  }\n",
    "]\n",
    "```"
   ]
  },
  {
   "cell_type": "markdown",
   "id": "149effd6",
   "metadata": {},
   "source": [
    "\n",
    "<div style=\"direction:rtl\">\n",
    "    <h3 style=\"padding-bottom: 20px; direction: rtl;\">تبدیل داده به ساختار جدولی</h3>\n",
    "    <div style=\"font-size: 16px;line-height: 1.6;\">\n",
    "   در این بخش داده‌ها به فرمت جدولی تبدیل شده و ساختار جدول آن در sql شرح داده می‌شود.\n",
    "    </div>\n",
    "</div>"
   ]
  },
  {
   "cell_type": "code",
   "execution_count": 59,
   "id": "d97314e8",
   "metadata": {},
   "outputs": [],
   "source": [
    "import json\n",
    "import csv\n",
    "\n",
    "# Open the JSON file\n",
    "with open('data/data.json', 'r') as json_file:\n",
    "    data = json.load(json_file)\n",
    "\n",
    "# Open the CSV file and write headers\n",
    "with open('data/data.csv', 'w', newline='') as csv_file:\n",
    "    writer = csv.writer(csv_file)\n",
    "    writer.writerow(['title', 'desc', 'brand', 'image-count', 'price', 'category', 'city'])\n",
    "\n",
    "    # Write data rows to CSV file\n",
    "    for item in data:\n",
    "        writer.writerow([item['title'], item['desc'],\n",
    "                         item['brand'], item['image-count'], \n",
    "                         item['price'], item['category'], item['city']])"
   ]
  },
  {
   "cell_type": "markdown",
   "id": "57995e82",
   "metadata": {},
   "source": [
    "<div style=\"font-size: 16px;line-height: 1.6;direction: rtl;\">\n",
    "  حال می توان داده را در جدولی مشابه جدول زیر در دیتابیس ذخیره کرد.\n",
    "</div>\n"
   ]
  },
  {
   "cell_type": "markdown",
   "id": "1e824a51",
   "metadata": {},
   "source": [
    "  ```\n",
    "  CREATE TABLE tblDivar (\n",
    "    fldID BIGINT identity(1, 1),\n",
    "    fldTitle NVARCHAR(250),\n",
    "    fldDesc NVARCHAR(MAX),\n",
    "    fldBrand NVARCHAR(250),\n",
    "    fldImageCount INT, \n",
    "    fldPrice NVARCHAR(250),\n",
    "    fldCategory NVARCHAR(250),\n",
    "    fldCity NVARCHAR(250)\n",
    ");\n",
    "```"
   ]
  },
  {
   "cell_type": "markdown",
   "id": "30bc42d8",
   "metadata": {},
   "source": [
    "\n",
    "<div style=\"direction:rtl\">\n",
    "    <h3 style=\"padding-bottom: 20px; direction: rtl;\">کنترل نسخه</h3>\n",
    "    <div style=\"font-size: 16px;line-height: 1.6;\">\n",
    "   برای کنترل نسخه داده از ابزار dvc استفاده شده است و. از این \n",
    "        <a href=\"https://github.com/Ehyaee/MLSD_HW1\">لینک گیتهاب</a>\n",
    "        و این \n",
    "        <a href=\"https://drive.google.com/drive/folders/1tSGQp5h-9Yie5EdEeVHwE9-51CNHzxJe?usp=sharing\">لینک گوگل درایو </a>\n",
    "        استفاده شده است.\n",
    "    </div>\n",
    "</div>"
   ]
  },
  {
   "cell_type": "markdown",
   "id": "883de6ad",
   "metadata": {},
   "source": [
    "<div style=\"direction:rtl\">\n",
    "    <h2 style=\"padding-bottom: 20px;\">تحلیل اکتشافی داده</h2>\n",
    "    <div style=\"font-size: 16px;line-height: 1.6;\">\n",
    "      در این بخش به بررسی بیشتر داده می‌پردازیم.\n",
    "    </div>\n",
    "    <h3 style=\"padding-bottom: 20px;\">تحلیل اکتشافی داده</h3>\n",
    "</div>"
   ]
  },
  {
   "cell_type": "code",
   "execution_count": 60,
   "id": "cef7c282",
   "metadata": {},
   "outputs": [
    {
     "data": {
      "text/html": [
       "<div>\n",
       "<style scoped>\n",
       "    .dataframe tbody tr th:only-of-type {\n",
       "        vertical-align: middle;\n",
       "    }\n",
       "\n",
       "    .dataframe tbody tr th {\n",
       "        vertical-align: top;\n",
       "    }\n",
       "\n",
       "    .dataframe thead th {\n",
       "        text-align: right;\n",
       "    }\n",
       "</style>\n",
       "<table border=\"1\" class=\"dataframe\">\n",
       "  <thead>\n",
       "    <tr style=\"text-align: right;\">\n",
       "      <th></th>\n",
       "      <th>title</th>\n",
       "      <th>desc</th>\n",
       "      <th>brand</th>\n",
       "      <th>image-count</th>\n",
       "      <th>price</th>\n",
       "      <th>category</th>\n",
       "      <th>city</th>\n",
       "    </tr>\n",
       "  </thead>\n",
       "  <tbody>\n",
       "    <tr>\n",
       "      <th>0</th>\n",
       "      <td>سینما خانگی سامسونگ ۱۰۰۰ وات، ساخت اندونزی</td>\n",
       "      <td>سینما خانگی ۷ تیکه دارای ۴ باند یک ساب، یک DVD...</td>\n",
       "      <td>NaN</td>\n",
       "      <td>4</td>\n",
       "      <td>۳٬۷۰۰٬۰۰۰ تومان</td>\n",
       "      <td>video-audio-device</td>\n",
       "      <td>Tehran</td>\n",
       "    </tr>\n",
       "    <tr>\n",
       "      <th>1</th>\n",
       "      <td>اسپیکر بلوتوثی</td>\n",
       "      <td>اتصال بی‌سیم و باسیم\\nجک ۳.۵ میلی‌متری صدا، بل...</td>\n",
       "      <td>NaN</td>\n",
       "      <td>1</td>\n",
       "      <td>۱٬۴۰۰٬۰۰۰ تومان (مقطوع)</td>\n",
       "      <td>video-audio-device</td>\n",
       "      <td>Tehran</td>\n",
       "    </tr>\n",
       "    <tr>\n",
       "      <th>2</th>\n",
       "      <td>ال سی دی سونی 55 اینج</td>\n",
       "      <td>Sony 55 inch \\nفقط روی صفحه خط سیاه افتاده و م...</td>\n",
       "      <td>NaN</td>\n",
       "      <td>1</td>\n",
       "      <td>۹٬۰۰۰٬۰۰۰ تومان (مقطوع)</td>\n",
       "      <td>video-audio-device</td>\n",
       "      <td>Tehran</td>\n",
       "    </tr>\n",
       "    <tr>\n",
       "      <th>3</th>\n",
       "      <td>تلویزیون شهاب ٢١ در حد نو</td>\n",
       "      <td>٢١ اینج\\nکار نکرده و در حد نو</td>\n",
       "      <td>NaN</td>\n",
       "      <td>2</td>\n",
       "      <td>۶۵۰٬۰۰۰ تومان</td>\n",
       "      <td>video-audio-device</td>\n",
       "      <td>Tehran</td>\n",
       "    </tr>\n",
       "    <tr>\n",
       "      <th>4</th>\n",
       "      <td>NaN</td>\n",
       "      <td>NaN</td>\n",
       "      <td>NaN</td>\n",
       "      <td>1</td>\n",
       "      <td>NaN</td>\n",
       "      <td>video-audio-device</td>\n",
       "      <td>Tehran</td>\n",
       "    </tr>\n",
       "  </tbody>\n",
       "</table>\n",
       "</div>"
      ],
      "text/plain": [
       "                                        title  \\\n",
       "0  سینما خانگی سامسونگ ۱۰۰۰ وات، ساخت اندونزی   \n",
       "1                              اسپیکر بلوتوثی   \n",
       "2                       ال سی دی سونی 55 اینج   \n",
       "3                   تلویزیون شهاب ٢١ در حد نو   \n",
       "4                                         NaN   \n",
       "\n",
       "                                                desc brand  image-count  \\\n",
       "0  سینما خانگی ۷ تیکه دارای ۴ باند یک ساب، یک DVD...   NaN            4   \n",
       "1  اتصال بی‌سیم و باسیم\\nجک ۳.۵ میلی‌متری صدا، بل...   NaN            1   \n",
       "2  Sony 55 inch \\nفقط روی صفحه خط سیاه افتاده و م...   NaN            1   \n",
       "3                      ٢١ اینج\\nکار نکرده و در حد نو   NaN            2   \n",
       "4                                                NaN   NaN            1   \n",
       "\n",
       "                     price            category    city  \n",
       "0          ۳٬۷۰۰٬۰۰۰ تومان  video-audio-device  Tehran  \n",
       "1  ۱٬۴۰۰٬۰۰۰ تومان (مقطوع)  video-audio-device  Tehran  \n",
       "2  ۹٬۰۰۰٬۰۰۰ تومان (مقطوع)  video-audio-device  Tehran  \n",
       "3            ۶۵۰٬۰۰۰ تومان  video-audio-device  Tehran  \n",
       "4                      NaN  video-audio-device  Tehran  "
      ]
     },
     "execution_count": 60,
     "metadata": {},
     "output_type": "execute_result"
    }
   ],
   "source": [
    "import numpy as np\n",
    "import pandas as pd\n",
    "import seaborn as sns\n",
    "import re\n",
    "\n",
    "df = pd.read_csv(\"data/data.csv\")\n",
    "df.head()"
   ]
  },
  {
   "cell_type": "code",
   "execution_count": 61,
   "id": "3ee71e3e",
   "metadata": {},
   "outputs": [
    {
     "name": "stdout",
     "output_type": "stream",
     "text": [
      "<class 'pandas.core.frame.DataFrame'>\n",
      "RangeIndex: 1221 entries, 0 to 1220\n",
      "Data columns (total 7 columns):\n",
      " #   Column       Non-Null Count  Dtype \n",
      "---  ------       --------------  ----- \n",
      " 0   title        1166 non-null   object\n",
      " 1   desc         1166 non-null   object\n",
      " 2   brand        199 non-null    object\n",
      " 3   image-count  1221 non-null   int64 \n",
      " 4   price        1164 non-null   object\n",
      " 5   category     1221 non-null   object\n",
      " 6   city         1221 non-null   object\n",
      "dtypes: int64(1), object(6)\n",
      "memory usage: 66.9+ KB\n"
     ]
    }
   ],
   "source": [
    "df.info()"
   ]
  },
  {
   "cell_type": "code",
   "execution_count": 62,
   "id": "5a31eda9",
   "metadata": {},
   "outputs": [
    {
     "data": {
      "text/plain": [
       "<AxesSubplot: xlabel='category', ylabel='count'>"
      ]
     },
     "execution_count": 62,
     "metadata": {},
     "output_type": "execute_result"
    },
    {
     "data": {
      "image/png": "[encoded data removed]",
      "text/plain": [
       "<Figure size 640x480 with 1 Axes>"
      ]
     },
     "metadata": {},
     "output_type": "display_data"
    }
   ],
   "source": [
    "sns.countplot(x='category', data=df, palette='pastel')"
   ]
  },
  {
   "cell_type": "code",
   "execution_count": 63,
   "id": "43ad7906",
   "metadata": {},
   "outputs": [
    {
     "data": {
      "text/plain": [
       "<AxesSubplot: xlabel='city', ylabel='count'>"
      ]
     },
     "execution_count": 63,
     "metadata": {},
     "output_type": "execute_result"
    },
    {
     "data": {
      "image/png": "[encoded data removed]",
      "text/plain": [
       "<Figure size 640x480 with 1 Axes>"
      ]
     },
     "metadata": {},
     "output_type": "display_data"
    }
   ],
   "source": [
    "sns.countplot(x='city', data=df, palette='pastel')"
   ]
  },
  {
   "cell_type": "code",
   "execution_count": 64,
   "id": "734c0634",
   "metadata": {},
   "outputs": [
    {
     "data": {
      "text/plain": [
       "title            55\n",
       "desc             55\n",
       "brand          1022\n",
       "image-count       0\n",
       "price            57\n",
       "category          0\n",
       "city              0\n",
       "dtype: int64"
      ]
     },
     "execution_count": 64,
     "metadata": {},
     "output_type": "execute_result"
    }
   ],
   "source": [
    "df.isnull().sum()"
   ]
  },
  {
   "cell_type": "markdown",
   "id": "8d80cd59",
   "metadata": {},
   "source": [
    "<div style=\"direction:rtl\">\n",
    "    <h3 style=\"padding-bottom: 20px;\">پاک‌سازی داده</h3>\n",
    "    <h4>حذف سطر های با عنوان و قیمت null</h4>\n",
    "</div>"
   ]
  },
  {
   "cell_type": "code",
   "execution_count": 65,
   "id": "f40063c7",
   "metadata": {},
   "outputs": [
    {
     "data": {
      "text/plain": [
       "title            0\n",
       "desc             0\n",
       "brand          965\n",
       "image-count      0\n",
       "price            0\n",
       "category         0\n",
       "city             0\n",
       "dtype: int64"
      ]
     },
     "execution_count": 65,
     "metadata": {},
     "output_type": "execute_result"
    }
   ],
   "source": [
    "df = df.dropna(subset=['title', 'price'])\n",
    "df.isnull().sum()"
   ]
  },
  {
   "cell_type": "markdown",
   "id": "72de9504",
   "metadata": {},
   "source": [
    "<div style=\"direction:rtl\">\n",
    "    <h4 style=\"padding-bottom: 20px;\">حذف unicode ها</h4>\n",
    "    <div style=\"font-size: 16px;line-height: 1.6;\">\n",
    "        در متن عناوین و توضیحات \n",
    "        تعدادی\n",
    "        unicode  وجود دارد.\n",
    "        به عنوان اولین مرحله این\n",
    "        unicode ها حذف می‌شود.\n",
    "  \n",
    "   </div> \n",
    "</div>\n"
   ]
  },
  {
   "cell_type": "code",
   "execution_count": 66,
   "id": "6edbf2fa",
   "metadata": {},
   "outputs": [],
   "source": [
    "def remove_unicode(text):\n",
    "    # regular expression pattern to match Unicode characters\n",
    "    pattern = r'[^\\u0600-\\u06FF\\u0660-\\u0669\\u06F0-\\u06F9\\u0020\\u002E\\u002C\\u061B\\u003A\\u002D\\u002F\\u0028\\u0029\\u005B\\u005D\\u007B\\u007D\\u00AB\\u00BB\\u2018\\u2019\\u201C\\u201D\\u00A0\\u200C\\u200F]+'\n",
    "    \n",
    "    text = text.replace(\"\\n\", \" \")\n",
    "    \n",
    "    # remove Unicode characters using re.sub()\n",
    "    cleaned_text = re.sub(pattern, '', text)\n",
    "    \n",
    "    return cleaned_text\n",
    "\n",
    "# remove unicodes \n",
    "df['title'] = df['title'].apply(lambda x: remove_unicode(x))\n",
    "df['desc'] = df['desc'].apply(lambda x: remove_unicode(x))\n"
   ]
  }
 ],
 "metadata": {
  "kernelspec": {
   "display_name": "Python 3 (ipykernel)",
   "language": "python",
   "name": "python3"
  },
  "language_info": {
   "codemirror_mode": {
    "name": "ipython",
    "version": 3
   },
   "file_extension": ".py",
   "mimetype": "text/x-python",
   "name": "python",
   "nbconvert_exporter": "python",
   "pygments_lexer": "ipython3",
   "version": "3.10.11"
  }
 },
 "nbformat": 4,
 "nbformat_minor": 5
}
